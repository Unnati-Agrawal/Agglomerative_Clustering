{
  "nbformat": 4,
  "nbformat_minor": 0,
  "metadata": {
    "colab": {
      "provenance": [],
      "authorship_tag": "ABX9TyN4eW6SRSxiPoV2zZq1md+R",
      "include_colab_link": true
    },
    "kernelspec": {
      "name": "python3",
      "display_name": "Python 3"
    },
    "language_info": {
      "name": "python"
    }
  },
  "cells": [
    {
      "cell_type": "markdown",
      "metadata": {
        "id": "view-in-github",
        "colab_type": "text"
      },
      "source": [
        "<a href=\"https://colab.research.google.com/github/Unnati-Agrawal/Agglomerative_Clustering/blob/main/implementation_of_hidden_markov_model_for_weather_prediction.ipynb\" target=\"_parent\"><img src=\"https://colab.research.google.com/assets/colab-badge.svg\" alt=\"Open In Colab\"/></a>"
      ]
    },
    {
      "cell_type": "code",
      "execution_count": null,
      "metadata": {
        "id": "_haOwDrLEaXa"
      },
      "outputs": [],
      "source": [
        "p_a_a = 0.8\n",
        "p_a_b = 0.2\n",
        "p_b_a = 0.4\n",
        "p_b_b = 0.6\n",
        "\n",
        "p_a = 0.6\n",
        "p_b = 0.4\n",
        "\n",
        "p_a_c = 0.8\n",
        "p_a_d = 0.2\n",
        "p_b_c = 0.4\n",
        "p_b_d = 0.6"
      ]
    },
    {
      "cell_type": "code",
      "source": [
        "moods=['C','C','H','H','H','H','C']\n",
        "probabilties=[]\n",
        "weather=[]"
      ],
      "metadata": {
        "id": "XcNO_puzILKU"
      },
      "execution_count": null,
      "outputs": []
    },
    {
      "cell_type": "code",
      "source": [
        "if moods[0] == 'H':\n",
        "    probabilties.append((p_a * p_a_c, p_b * p_b_c))\n",
        "else:\n",
        "    probabilties.append((p_a * p_a_d, p_b * p_b_d))\n"
      ],
      "metadata": {
        "id": "7eszngHYILIq"
      },
      "execution_count": null,
      "outputs": []
    },
    {
      "cell_type": "code",
      "source": [
        "for i in range(1,len(moods)):\n",
        "    yesterday_sunny , yesterday_rainy = probabilties[-1]\n",
        "    if moods[i]=='H':\n",
        "        today_sunny = max(yesterday_sunny*p_a_a*p_a_c,yesterday_rainy*p_b_a*p_a_c)\n",
        "        today_rainy = max(yesterday_sunny*p_a_b*p_b_c,yesterday_rainy*p_b_b*p_b_c)\n",
        "        probabilties.append((today_sunny, today_rainy))\n",
        "    else:\n",
        "        today_sunny = max(yesterday_sunny * p_a_a * p_a_d, yesterday_rainy * p_b_a * p_a_d)\n",
        "        today_rainy = max(yesterday_sunny * p_a_b * p_b_d, yesterday_rainy * p_b_b * p_b_d)\n",
        "        probabilties.append((today_sunny, today_rainy))"
      ],
      "metadata": {
        "id": "2pSLVsFYODKe"
      },
      "execution_count": null,
      "outputs": []
    },
    {
      "cell_type": "code",
      "source": [
        "for i in range(1,len(moods)):\n",
        "    yesterday_not_rainy , yesterday_rainy = probabilties[-1]\n",
        "    if moods[i]=='H':\n",
        "        today_not_rainy = max(yesterday_not_rainy*p_a_a*p_a_c,yesterday_rainy*p_b_a*p_a_c)\n",
        "        today_rainy = max(yesterday_not_rainy*p_a_b*p_b_c,yesterday_rainy*p_b_b*p_b_c)\n",
        "        probabilties.append((today_not_rainy, today_rainy))\n",
        "    else:\n",
        "        today_not_rainy = max(yesterday_not_rainy * p_a_a * p_a_d, yesterday_rainy * p_b_a * p_a_d)\n",
        "        today_rainy = max(yesterday_not_rainy * p_a_b * p_b_d, yesterday_rainy * p_b_b * p_b_d)\n",
        "        probabilties.append((today_not_rainy, today_rainy))\n"
      ],
      "metadata": {
        "id": "d2ao-FPiILGy"
      },
      "execution_count": null,
      "outputs": []
    },
    {
      "cell_type": "code",
      "source": [
        "for p in probabilties:\n",
        "        if p[0] > p[1] :\n",
        "            weather.append('NR')\n",
        "        else:\n",
        "            weather.append('R')\n",
        "\n",
        "\n",
        "\n",
        "print(\"weather sequnce :\",weather)"
      ],
      "metadata": {
        "id": "zZ6oM2blILBv",
        "colab": {
          "base_uri": "https://localhost:8080/"
        },
        "outputId": "548b776e-6fb9-4b43-db86-4f21cd8b025c"
      },
      "execution_count": null,
      "outputs": [
        {
          "output_type": "stream",
          "name": "stdout",
          "text": [
            "weather sequnce : ['R', 'R', 'NR', 'NR', 'NR', 'NR', 'NR', 'R', 'NR', 'NR', 'NR', 'NR', 'NR']\n"
          ]
        }
      ]
    }
  ]
}